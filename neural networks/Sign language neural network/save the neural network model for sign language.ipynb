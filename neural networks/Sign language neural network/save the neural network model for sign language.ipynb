{
 "cells": [
  {
   "cell_type": "code",
   "execution_count": 1,
   "id": "d485d898",
   "metadata": {},
   "outputs": [],
   "source": [
    "from tensorflow.keras.models import Sequential \n",
    "from tensorflow.keras.models import load_model \n",
    "from tensorflow.keras.layers import Conv2D, MaxPooling2D, Dense, Flatten\n",
    "from keras import optimizers\n",
    "from keras.utils import to_categorical\n",
    "import numpy as np\n",
    "import pandas as pd\n",
    "import matplotlib.pyplot as plt\n",
    "import random"
   ]
  },
  {
   "cell_type": "code",
   "execution_count": 2,
   "id": "7ada09f6",
   "metadata": {},
   "outputs": [],
   "source": [
    "data = pd.read_csv(\"C:/Users/Sohaila/Documents/هنا حيث الروعة كلها/sign language detection project/data sets/sign language data _arabic/sign_language_test.csv\")"
   ]
  },
  {
   "cell_type": "code",
   "execution_count": 3,
   "id": "1001e6af",
   "metadata": {},
   "outputs": [
    {
     "name": "stdout",
     "output_type": "stream",
     "text": [
      "(53391, 4097)\n",
      "['nun' 'saad' 'waw' ... 'kaaf' 'laam' 'jeem']\n",
      "(50000, 4096)\n",
      "['ra' 'saad' 'taa' ... 'ain' 'jeem' 'fa']\n",
      "(3391, 4096)\n"
     ]
    }
   ],
   "source": [
    "#print(data.head())\n",
    "data = np.array(data)\n",
    "print(data.shape)\n",
    "\n",
    "np.random.shuffle(data)\n",
    "train = data[0:50000].T\n",
    "test =  data[50000:].T\n",
    "\n",
    "train_data = (train[1:]).T\n",
    "train_labels = train[0]\n",
    "print(train_labels)\n",
    "print(train_data.shape)\n",
    "\n",
    "test_data   = test[1:].T\n",
    "test_labels = test[0]\n",
    "print(test_labels)\n",
    "print(test_data.shape)\n",
    "\n",
    "test_data  = test_data.reshape(len(test_data) , 64, 64)\n",
    "train_data = train_data.reshape(len(train_data) , 64, 64)\n",
    "\n",
    "test_data  = test_data.astype('float32')\n",
    "train_data = train_data.astype('float32')\n",
    "\n",
    "train_data = train_data/255\n",
    "test_data  = test_data/255"
   ]
  },
  {
   "cell_type": "code",
   "execution_count": 20,
   "id": "aa74a844",
   "metadata": {},
   "outputs": [],
   "source": [
    "#to get the name of the letter in the final stage after doing the prediction\n",
    "def get_letter(num):\n",
    "    if num == 0:\n",
    "        c = \"ع\"    \n",
    "    elif num == 1:\n",
    "        c = \"ال\"\n",
    "    elif num == 2:\n",
    "        c = \"أ\"\n",
    "    elif num == 3:\n",
    "        c = \"ب\"\n",
    "    elif num == 4:\n",
    "        c = \"د\"\n",
    "    elif num == 5:\n",
    "        c = \"ظ\"\n",
    "    elif num == 6:\n",
    "        c = \"ض\"\n",
    "    elif num == 7:\n",
    "        c = \"ف\"\n",
    "    elif num == 8:\n",
    "        c = \"ق\"\n",
    "    elif num == 9:\n",
    "        c = \"غ\"\n",
    "    elif num == 10:\n",
    "        c = \"ه\"\n",
    "    elif num == 11:\n",
    "        c = \"ح\"\n",
    "    elif num == 12:\n",
    "        c = \"ج\"\n",
    "    elif num == 13:\n",
    "        c = \"ك\"\n",
    "    elif num == 14:\n",
    "        c = \"خ\"\n",
    "    elif num == 15:\n",
    "        c = \"لا\"\n",
    "    elif num == 16:\n",
    "        c = \"ل\"\n",
    "    elif num == 17:\n",
    "        c = \"م\"\n",
    "    elif num == 18:\n",
    "        c = \"ن\"\n",
    "    elif num == 19:\n",
    "        c = \"ر\"\n",
    "    elif num == 20:\n",
    "        c = \"ص\"\n",
    "    elif num == 21:\n",
    "        c = \"س\"\n",
    "    elif num == 22:\n",
    "        c = \"ش\"\n",
    "    elif num == 23:\n",
    "        c = \"ط\"\n",
    "    elif num == 24:\n",
    "        c = \"ت\"\n",
    "    elif num == 25:\n",
    "        c = \"ث\"\n",
    "    elif num == 26:\n",
    "        c = \"ذ\"\n",
    "    elif num == 27:\n",
    "        c = \"ة\"\n",
    "    elif num == 28:\n",
    "        c = \"و\"\n",
    "    elif num == 29:\n",
    "        c = \"ئ\"\n",
    "    elif num == 30:\n",
    "        c = \"ي\"\n",
    "    elif num == 31:\n",
    "        c = \"ز\"\n",
    "        \n",
    "    return c\n",
    "\n",
    "def get_letter_test(label):\n",
    "    if label == \"ain\":\n",
    "        label = \"ع\"\n",
    "    elif label == \"al\":\n",
    "        label = \"ال\"\n",
    "    elif label == \"aleff\":\n",
    "        label = \"أ\"\n",
    "    elif label == \"bb\":\n",
    "        label = \"ب\"\n",
    "    elif label == \"dal\":\n",
    "        label = \"د\"\n",
    "    elif label == \"dha\":\n",
    "        label = \"ظ\"\n",
    "    elif label == \"dhad\":\n",
    "        label = \"ض\"\n",
    "    elif label == \"fa\":\n",
    "        label = \"ف\"\n",
    "    elif label == \"gaaf\":\n",
    "        label = \"ق\"\n",
    "    elif label == \"ghain\":\n",
    "        label = \"غ\"\n",
    "    elif label == \"ha\":\n",
    "        label =   \"ه\"\n",
    "    elif label == \"haa\":\n",
    "        label = \"ح\"\n",
    "    elif label == \"jeem\":\n",
    "        label = \"ج\"\n",
    "    elif label == \"kaaf\":\n",
    "        label = \"ك\"\n",
    "    elif label == \"khaa\":\n",
    "        label = \"خ\"\n",
    "    elif label == \"la\":\n",
    "        label = \"لا\"\n",
    "    elif label == \"laam\":\n",
    "        label = \"ل\"\n",
    "    elif label == \"meem\":\n",
    "        label = \"م\"\n",
    "    elif label == \"nun\":\n",
    "        label = \"ن\"\n",
    "    elif label == \"ra\":\n",
    "        label = \"ر\"\n",
    "    elif label == \"saad\":\n",
    "        label = \"ص\"\n",
    "    elif label == \"seen\":\n",
    "        label = \"س\"\n",
    "    elif label == \"sheen\":\n",
    "        label = \"ش\"\n",
    "    elif label == \"ta\":\n",
    "        label = \"ط\"\n",
    "    elif label == \"taa\":\n",
    "        label = \"ت\"\n",
    "    elif label == \"thaa\":\n",
    "        label = \"ث\"\n",
    "    elif label == \"thal\":\n",
    "        label = \"ذ\"\n",
    "    elif label == \"toot\":\n",
    "        label = \"ة\"\n",
    "    elif label == \"waw\":\n",
    "        label = \"و\"\n",
    "    elif label == \"ya\":\n",
    "        label = \"ئ\"\n",
    "    elif label == \"yaa\":\n",
    "        label = \"ى\"\n",
    "    elif label == \"zay\":\n",
    "        label = \"ز\"\n",
    "    return label\n"
   ]
  },
  {
   "cell_type": "code",
   "execution_count": 21,
   "id": "c8c28570",
   "metadata": {},
   "outputs": [],
   "source": [
    "model_path = \"model.h5\""
   ]
  },
  {
   "cell_type": "code",
   "execution_count": null,
   "id": "99b1a303",
   "metadata": {},
   "outputs": [],
   "source": [
    "model = load_model(model_path)"
   ]
  },
  {
   "cell_type": "code",
   "execution_count": 14,
   "id": "c22a0225",
   "metadata": {},
   "outputs": [
    {
     "name": "stdout",
     "output_type": "stream",
     "text": [
      "1/1 [==============================] - 0s 23ms/step\n",
      "I think this image is for sign:  ر\n",
      "the picture is actually for:  ر\n"
     ]
    }
   ],
   "source": [
    "idx = random.randint(0,len(test_data)-1)\n",
    "prediction = model.predict(test_data[idx , : ].reshape(1,64,64,1))\n",
    "\n",
    "\n",
    "prediction = np.argmax(prediction)\n",
    "prediction = get_letter(prediction)\n",
    "real = test_labels[idx]\n",
    "real = get_letter_test(real)\n",
    "\n",
    "\n",
    "print(\"I think this image is for sign: \", prediction)\n",
    "print(\"the picture is actually for: \" ,real)"
   ]
  },
  {
   "cell_type": "code",
   "execution_count": 16,
   "id": "acabc04e",
   "metadata": {},
   "outputs": [
    {
     "name": "stdout",
     "output_type": "stream",
     "text": [
      "[[207. 207. 207. ... 211. 211. 211.]\n",
      " [207. 207. 208. ... 213. 213. 213.]\n",
      " [207. 207. 208. ... 212. 212. 212.]\n",
      " ...\n",
      " [149. 149. 148. ... 123. 122. 121.]\n",
      " [148. 148. 148. ... 119. 118. 117.]\n",
      " [148. 148. 147. ... 116. 115. 114.]]\n"
     ]
    }
   ],
   "source": [
    "image = test_data[idx , :]*255\n",
    "print(image)"
   ]
  },
  {
   "cell_type": "code",
   "execution_count": 1,
   "id": "4b018e06",
   "metadata": {},
   "outputs": [
    {
     "ename": "NameError",
     "evalue": "name 'plt' is not defined",
     "output_type": "error",
     "traceback": [
      "\u001b[1;31m---------------------------------------------------------------------------\u001b[0m",
      "\u001b[1;31mNameError\u001b[0m                                 Traceback (most recent call last)",
      "Cell \u001b[1;32mIn[1], line 1\u001b[0m\n\u001b[1;32m----> 1\u001b[0m \u001b[43mplt\u001b[49m\u001b[38;5;241m.\u001b[39mgray()\n\u001b[0;32m      2\u001b[0m plt\u001b[38;5;241m.\u001b[39mimshow(image)\n\u001b[0;32m      3\u001b[0m plt\u001b[38;5;241m.\u001b[39mshow()\n",
      "\u001b[1;31mNameError\u001b[0m: name 'plt' is not defined"
     ]
    }
   ],
   "source": [
    "plt.gray()\n",
    "plt.imshow(image)\n",
    "plt.show()"
   ]
  }
 ],
 "metadata": {
  "kernelspec": {
   "display_name": "Python 3 (ipykernel)",
   "language": "python",
   "name": "python3"
  },
  "language_info": {
   "codemirror_mode": {
    "name": "ipython",
    "version": 3
   },
   "file_extension": ".py",
   "mimetype": "text/x-python",
   "name": "python",
   "nbconvert_exporter": "python",
   "pygments_lexer": "ipython3",
   "version": "3.10.9"
  }
 },
 "nbformat": 4,
 "nbformat_minor": 5
}
